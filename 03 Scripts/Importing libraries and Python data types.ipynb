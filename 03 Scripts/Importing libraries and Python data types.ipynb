{
 "cells": [
  {
   "cell_type": "markdown",
   "id": "9196f7cc-f26a-4309-bb88-09d050c7c355",
   "metadata": {},
   "source": [
    "# Libraries and Data Types"
   ]
  },
  {
   "cell_type": "markdown",
   "id": "21876403-43b1-449a-8f02-273cf14309d2",
   "metadata": {},
   "source": [
    "### Importing Libraries"
   ]
  },
  {
   "cell_type": "markdown",
   "id": "58a12575-2920-40ae-90a5-8fa34675ee7e",
   "metadata": {},
   "source": [
    "##### I will be importing in all the required libraries"
   ]
  },
  {
   "cell_type": "code",
   "execution_count": 7,
   "id": "81b2c689-2be1-451f-81cc-c3489769a740",
   "metadata": {},
   "outputs": [],
   "source": [
    "# importing libraries\n",
    "import pandas as pd\n",
    "import numpy as ny \n",
    "import os"
   ]
  },
  {
   "cell_type": "markdown",
   "id": "c45fb95b-d7f9-4ef0-b869-a69576a130d2",
   "metadata": {},
   "source": [
    "### Data Types"
   ]
  },
  {
   "cell_type": "markdown",
   "id": "a77eb873-64f1-4128-abe4-61cce895091a",
   "metadata": {},
   "source": [
    "##### This section is learning how to assign numbers to letters and practicing this concept "
   ]
  },
  {
   "cell_type": "code",
   "execution_count": 55,
   "id": "de11aaa6-724c-4d89-be7b-9c8296844d51",
   "metadata": {},
   "outputs": [],
   "source": [
    "x = 60"
   ]
  },
  {
   "cell_type": "code",
   "execution_count": 57,
   "id": "3663f026-ba10-4498-b8f3-a120b9608584",
   "metadata": {},
   "outputs": [],
   "source": [
    "y = 40"
   ]
  },
  {
   "cell_type": "code",
   "execution_count": 59,
   "id": "4cab6d3b-77da-4720-9a6a-c18f9da20ab6",
   "metadata": {},
   "outputs": [
    {
     "data": {
      "text/plain": [
       "100"
      ]
     },
     "execution_count": 59,
     "metadata": {},
     "output_type": "execute_result"
    }
   ],
   "source": [
    "x + y"
   ]
  },
  {
   "cell_type": "code",
   "execution_count": 93,
   "id": "46fa4b88-86e9-4836-a340-5dc4ca8dc008",
   "metadata": {},
   "outputs": [],
   "source": [
    "x = 150"
   ]
  },
  {
   "cell_type": "code",
   "execution_count": 95,
   "id": "58a1e840-eb1a-4423-9f0b-f45c5e91c89a",
   "metadata": {},
   "outputs": [],
   "source": [
    "y = 50"
   ]
  },
  {
   "cell_type": "code",
   "execution_count": 97,
   "id": "691e1f91-e79e-4e3f-a043-7ee756251df0",
   "metadata": {},
   "outputs": [
    {
     "data": {
      "text/plain": [
       "100"
      ]
     },
     "execution_count": 97,
     "metadata": {},
     "output_type": "execute_result"
    }
   ],
   "source": [
    "x - y"
   ]
  },
  {
   "cell_type": "code",
   "execution_count": 99,
   "id": "dfec092a-f460-4292-a41e-ce0786debd92",
   "metadata": {},
   "outputs": [],
   "source": [
    "x = 150"
   ]
  },
  {
   "cell_type": "code",
   "execution_count": 101,
   "id": "c24a0176-fbd2-45df-b0c4-2765592208ae",
   "metadata": {},
   "outputs": [],
   "source": [
    "y = 25"
   ]
  },
  {
   "cell_type": "code",
   "execution_count": 103,
   "id": "089ae0e8-affd-4c74-9772-8b882b3612ab",
   "metadata": {},
   "outputs": [
    {
     "data": {
      "text/plain": [
       "100"
      ]
     },
     "execution_count": 103,
     "metadata": {},
     "output_type": "execute_result"
    }
   ],
   "source": [
    "x - (y+y)"
   ]
  },
  {
   "cell_type": "code",
   "execution_count": 105,
   "id": "b4947a8b-883f-4fda-8e79-db3cc49d85c4",
   "metadata": {},
   "outputs": [],
   "source": [
    "x = 12.65"
   ]
  },
  {
   "cell_type": "code",
   "execution_count": 107,
   "id": "d2a0c249-4d12-4707-bc2f-f5b00458bb0b",
   "metadata": {},
   "outputs": [],
   "source": [
    "y = 3.5"
   ]
  },
  {
   "cell_type": "code",
   "execution_count": 109,
   "id": "d03851f0-af1f-4306-979f-f75c7cbad10b",
   "metadata": {},
   "outputs": [
    {
     "data": {
      "text/plain": [
       "3.6142857142857143"
      ]
     },
     "execution_count": 109,
     "metadata": {},
     "output_type": "execute_result"
    }
   ],
   "source": [
    "x/y"
   ]
  },
  {
   "cell_type": "code",
   "execution_count": 111,
   "id": "e344e4b8-4164-46d1-b146-78315cf1ff65",
   "metadata": {},
   "outputs": [],
   "source": [
    "a = 'Hello my name'"
   ]
  },
  {
   "cell_type": "code",
   "execution_count": 117,
   "id": "a1e18815-b19b-4bf2-940c-8c50c17ad373",
   "metadata": {},
   "outputs": [],
   "source": [
    "b = ' Mosh'"
   ]
  },
  {
   "cell_type": "code",
   "execution_count": 119,
   "id": "2e1c09d1-0b43-4846-848b-c7b8910c3d1b",
   "metadata": {},
   "outputs": [
    {
     "data": {
      "text/plain": [
       "'Hello my name Mosh'"
      ]
     },
     "execution_count": 119,
     "metadata": {},
     "output_type": "execute_result"
    }
   ],
   "source": [
    "a+b"
   ]
  },
  {
   "cell_type": "code",
   "execution_count": 125,
   "id": "a6b41133-278f-4be1-b6d6-0a431201deab",
   "metadata": {},
   "outputs": [],
   "source": [
    "c = ', and this is my first time using Python'"
   ]
  },
  {
   "cell_type": "code",
   "execution_count": 127,
   "id": "e2f6b1b4-5065-462c-812c-26d2e9e97fc9",
   "metadata": {},
   "outputs": [
    {
     "data": {
      "text/plain": [
       "'Hello my name Mosh, and this is my first time using Python'"
      ]
     },
     "execution_count": 127,
     "metadata": {},
     "output_type": "execute_result"
    }
   ],
   "source": [
    "a+b+c"
   ]
  },
  {
   "cell_type": "code",
   "execution_count": 129,
   "id": "6873b31a-09c3-498f-8084-e10de1bdfdd3",
   "metadata": {},
   "outputs": [
    {
     "data": {
      "text/plain": [
       "'Hello my name Mosh, and this is my first time using Python, and this is my first time using Python, and this is my first time using Python, and this is my first time using Python, and this is my first time using Python, and this is my first time using Python, and this is my first time using Python, and this is my first time using Python, and this is my first time using Python, and this is my first time using Python, and this is my first time using Python, and this is my first time using Python, and this is my first time using Python, and this is my first time using Python, and this is my first time using Python, and this is my first time using Python, and this is my first time using Python, and this is my first time using Python, and this is my first time using Python, and this is my first time using Python, and this is my first time using Python, and this is my first time using Python, and this is my first time using Python, and this is my first time using Python, and this is my first time using Python, and this is my first time using Python, and this is my first time using Python, and this is my first time using Python, and this is my first time using Python, and this is my first time using Python, and this is my first time using Python, and this is my first time using Python, and this is my first time using Python, and this is my first time using Python, and this is my first time using Python, and this is my first time using Python, and this is my first time using Python, and this is my first time using Python, and this is my first time using Python, and this is my first time using Python, and this is my first time using Python, and this is my first time using Python, and this is my first time using Python, and this is my first time using Python, and this is my first time using Python, and this is my first time using Python, and this is my first time using Python, and this is my first time using Python, and this is my first time using Python, and this is my first time using Python, and this is my first time using Python, and this is my first time using Python, and this is my first time using Python, and this is my first time using Python, and this is my first time using Python, and this is my first time using Python, and this is my first time using Python, and this is my first time using Python, and this is my first time using Python, and this is my first time using Python, and this is my first time using Python, and this is my first time using Python, and this is my first time using Python, and this is my first time using Python, and this is my first time using Python, and this is my first time using Python, and this is my first time using Python, and this is my first time using Python, and this is my first time using Python, and this is my first time using Python, and this is my first time using Python, and this is my first time using Python, and this is my first time using Python, and this is my first time using Python, and this is my first time using Python, and this is my first time using Python, and this is my first time using Python, and this is my first time using Python, and this is my first time using Python, and this is my first time using Python, and this is my first time using Python, and this is my first time using Python, and this is my first time using Python, and this is my first time using Python, and this is my first time using Python, and this is my first time using Python, and this is my first time using Python, and this is my first time using Python, and this is my first time using Python, and this is my first time using Python, and this is my first time using Python, and this is my first time using Python, and this is my first time using Python, and this is my first time using Python, and this is my first time using Python, and this is my first time using Python, and this is my first time using Python, and this is my first time using Python, and this is my first time using Python, and this is my first time using Python'"
      ]
     },
     "execution_count": 129,
     "metadata": {},
     "output_type": "execute_result"
    }
   ],
   "source": [
    "a+b+c * 100"
   ]
  }
 ],
 "metadata": {
  "kernelspec": {
   "display_name": "Python 3 (ipykernel)",
   "language": "python",
   "name": "python3"
  },
  "language_info": {
   "codemirror_mode": {
    "name": "ipython",
    "version": 3
   },
   "file_extension": ".py",
   "mimetype": "text/x-python",
   "name": "python",
   "nbconvert_exporter": "python",
   "pygments_lexer": "ipython3",
   "version": "3.12.4"
  }
 },
 "nbformat": 4,
 "nbformat_minor": 5
}
